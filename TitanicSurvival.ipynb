{
 "cells": [
  {
   "cell_type": "markdown",
   "metadata": {},
   "source": [
    "# Titanic : Predict the passenger's possibility of the survival "
   ]
  },
  {
   "cell_type": "markdown",
   "metadata": {},
   "source": [
    "Import the necessary packages <br/>\n",
    "\n",
    "Import the dataset from csv to pandas dataframe"
   ]
  },
  {
   "cell_type": "code",
   "execution_count": 2,
   "metadata": {},
   "outputs": [],
   "source": [
    "import numpy as np\n",
    "import pandas as pd\n",
    "import matplotlib.pyplot as plt\n",
    "import seaborn as sns\n",
    "%matplotlib inline"
   ]
  },
  {
   "cell_type": "code",
   "execution_count": 31,
   "metadata": {},
   "outputs": [
    {
     "data": {
      "text/html": [
       "<div>\n",
       "<style scoped>\n",
       "    .dataframe tbody tr th:only-of-type {\n",
       "        vertical-align: middle;\n",
       "    }\n",
       "\n",
       "    .dataframe tbody tr th {\n",
       "        vertical-align: top;\n",
       "    }\n",
       "\n",
       "    .dataframe thead th {\n",
       "        text-align: right;\n",
       "    }\n",
       "</style>\n",
       "<table border=\"1\" class=\"dataframe\">\n",
       "  <thead>\n",
       "    <tr style=\"text-align: right;\">\n",
       "      <th></th>\n",
       "      <th>PassengerId</th>\n",
       "      <th>Survived</th>\n",
       "      <th>Pclass</th>\n",
       "      <th>Name</th>\n",
       "      <th>Sex</th>\n",
       "      <th>Age</th>\n",
       "      <th>SibSp</th>\n",
       "      <th>Parch</th>\n",
       "      <th>Ticket</th>\n",
       "      <th>Fare</th>\n",
       "      <th>Cabin</th>\n",
       "      <th>Embarked</th>\n",
       "    </tr>\n",
       "  </thead>\n",
       "  <tbody>\n",
       "    <tr>\n",
       "      <th>0</th>\n",
       "      <td>1</td>\n",
       "      <td>0</td>\n",
       "      <td>3</td>\n",
       "      <td>Braund, Mr. Owen Harris</td>\n",
       "      <td>male</td>\n",
       "      <td>22.0</td>\n",
       "      <td>1</td>\n",
       "      <td>0</td>\n",
       "      <td>A/5 21171</td>\n",
       "      <td>7.2500</td>\n",
       "      <td>NaN</td>\n",
       "      <td>S</td>\n",
       "    </tr>\n",
       "    <tr>\n",
       "      <th>1</th>\n",
       "      <td>2</td>\n",
       "      <td>1</td>\n",
       "      <td>1</td>\n",
       "      <td>Cumings, Mrs. John Bradley (Florence Briggs Th...</td>\n",
       "      <td>female</td>\n",
       "      <td>38.0</td>\n",
       "      <td>1</td>\n",
       "      <td>0</td>\n",
       "      <td>PC 17599</td>\n",
       "      <td>71.2833</td>\n",
       "      <td>C85</td>\n",
       "      <td>C</td>\n",
       "    </tr>\n",
       "    <tr>\n",
       "      <th>2</th>\n",
       "      <td>3</td>\n",
       "      <td>1</td>\n",
       "      <td>3</td>\n",
       "      <td>Heikkinen, Miss. Laina</td>\n",
       "      <td>female</td>\n",
       "      <td>26.0</td>\n",
       "      <td>0</td>\n",
       "      <td>0</td>\n",
       "      <td>STON/O2. 3101282</td>\n",
       "      <td>7.9250</td>\n",
       "      <td>NaN</td>\n",
       "      <td>S</td>\n",
       "    </tr>\n",
       "    <tr>\n",
       "      <th>3</th>\n",
       "      <td>4</td>\n",
       "      <td>1</td>\n",
       "      <td>1</td>\n",
       "      <td>Futrelle, Mrs. Jacques Heath (Lily May Peel)</td>\n",
       "      <td>female</td>\n",
       "      <td>35.0</td>\n",
       "      <td>1</td>\n",
       "      <td>0</td>\n",
       "      <td>113803</td>\n",
       "      <td>53.1000</td>\n",
       "      <td>C123</td>\n",
       "      <td>S</td>\n",
       "    </tr>\n",
       "    <tr>\n",
       "      <th>4</th>\n",
       "      <td>5</td>\n",
       "      <td>0</td>\n",
       "      <td>3</td>\n",
       "      <td>Allen, Mr. William Henry</td>\n",
       "      <td>male</td>\n",
       "      <td>35.0</td>\n",
       "      <td>0</td>\n",
       "      <td>0</td>\n",
       "      <td>373450</td>\n",
       "      <td>8.0500</td>\n",
       "      <td>NaN</td>\n",
       "      <td>S</td>\n",
       "    </tr>\n",
       "  </tbody>\n",
       "</table>\n",
       "</div>"
      ],
      "text/plain": [
       "   PassengerId  Survived  Pclass  \\\n",
       "0            1         0       3   \n",
       "1            2         1       1   \n",
       "2            3         1       3   \n",
       "3            4         1       1   \n",
       "4            5         0       3   \n",
       "\n",
       "                                                Name     Sex   Age  SibSp  \\\n",
       "0                            Braund, Mr. Owen Harris    male  22.0      1   \n",
       "1  Cumings, Mrs. John Bradley (Florence Briggs Th...  female  38.0      1   \n",
       "2                             Heikkinen, Miss. Laina  female  26.0      0   \n",
       "3       Futrelle, Mrs. Jacques Heath (Lily May Peel)  female  35.0      1   \n",
       "4                           Allen, Mr. William Henry    male  35.0      0   \n",
       "\n",
       "   Parch            Ticket     Fare Cabin Embarked  \n",
       "0      0         A/5 21171   7.2500   NaN        S  \n",
       "1      0          PC 17599  71.2833   C85        C  \n",
       "2      0  STON/O2. 3101282   7.9250   NaN        S  \n",
       "3      0            113803  53.1000  C123        S  \n",
       "4      0            373450   8.0500   NaN        S  "
      ]
     },
     "execution_count": 31,
     "metadata": {},
     "output_type": "execute_result"
    }
   ],
   "source": [
    "train_df=pd.read_csv('train.csv')\n",
    "test_df = pd.read_csv('test.csv')\n",
    "train_df.head()"
   ]
  },
  {
   "cell_type": "markdown",
   "metadata": {},
   "source": [
    "<h3>Data preprocessing for train data</h3><br/>\n",
    "   1. Check the missing values<br/>\n",
    "   2. Fill the missing values with the mean,median or mode based on the distribution of the attribute.<br/>\n",
    "   3. Drop the columns that are not requied"
   ]
  },
  {
   "cell_type": "code",
   "execution_count": 4,
   "metadata": {},
   "outputs": [
    {
     "data": {
      "text/plain": [
       "PassengerId      0\n",
       "Survived         0\n",
       "Pclass           0\n",
       "Name             0\n",
       "Sex              0\n",
       "Age            177\n",
       "SibSp            0\n",
       "Parch            0\n",
       "Ticket           0\n",
       "Fare             0\n",
       "Cabin          687\n",
       "Embarked         2\n",
       "dtype: int64"
      ]
     },
     "execution_count": 4,
     "metadata": {},
     "output_type": "execute_result"
    }
   ],
   "source": [
    "# To check missing values in the train dataset\n",
    "train_df.isnull().sum()"
   ]
  },
  {
   "cell_type": "code",
   "execution_count": 5,
   "metadata": {},
   "outputs": [
    {
     "name": "stdout",
     "output_type": "stream",
     "text": [
      "Percentage of missing values in Age column 19.87%\n",
      "Percentage of missing values in Cabin column 77.10%\n",
      "Percentage of missing values in Embarked column 0.22%\n"
     ]
    }
   ],
   "source": [
    "print(\"Percentage of missing values in Age column %.2f%%\" % ((train_df['Age'].isnull().sum()/train_df.shape[0]) * 100))\n",
    "print(\"Percentage of missing values in Cabin column %.2f%%\" % ((train_df['Cabin'].isnull().sum()/train_df.shape[0]) * 100))\n",
    "print(\"Percentage of missing values in Embarked column %.2f%%\" % ((train_df['Embarked'].isnull().sum()/train_df.shape[0]) * 100))\n"
   ]
  },
  {
   "cell_type": "code",
   "execution_count": 6,
   "metadata": {},
   "outputs": [],
   "source": [
    "train_data = train_df.copy()\n",
    "train_data[\"Age\"].fillna(train_df[\"Age\"].median(skipna=True), inplace=True)\n",
    "train_data[\"Embarked\"].fillna(train_df['Embarked'].mode()[0], inplace=True)\n",
    "train_data.drop(['PassengerId','Cabin', 'Ticket','Name'], axis=1, inplace=True)"
   ]
  },
  {
   "cell_type": "code",
   "execution_count": 7,
   "metadata": {},
   "outputs": [
    {
     "data": {
      "text/html": [
       "<div>\n",
       "<style scoped>\n",
       "    .dataframe tbody tr th:only-of-type {\n",
       "        vertical-align: middle;\n",
       "    }\n",
       "\n",
       "    .dataframe tbody tr th {\n",
       "        vertical-align: top;\n",
       "    }\n",
       "\n",
       "    .dataframe thead th {\n",
       "        text-align: right;\n",
       "    }\n",
       "</style>\n",
       "<table border=\"1\" class=\"dataframe\">\n",
       "  <thead>\n",
       "    <tr style=\"text-align: right;\">\n",
       "      <th></th>\n",
       "      <th>Survived</th>\n",
       "      <th>Pclass</th>\n",
       "      <th>Sex</th>\n",
       "      <th>Age</th>\n",
       "      <th>Fare</th>\n",
       "      <th>Embarked</th>\n",
       "      <th>IsTravelAlone</th>\n",
       "    </tr>\n",
       "  </thead>\n",
       "  <tbody>\n",
       "    <tr>\n",
       "      <th>0</th>\n",
       "      <td>0</td>\n",
       "      <td>3</td>\n",
       "      <td>male</td>\n",
       "      <td>22.0</td>\n",
       "      <td>7.2500</td>\n",
       "      <td>S</td>\n",
       "      <td>0</td>\n",
       "    </tr>\n",
       "    <tr>\n",
       "      <th>1</th>\n",
       "      <td>1</td>\n",
       "      <td>1</td>\n",
       "      <td>female</td>\n",
       "      <td>38.0</td>\n",
       "      <td>71.2833</td>\n",
       "      <td>C</td>\n",
       "      <td>0</td>\n",
       "    </tr>\n",
       "    <tr>\n",
       "      <th>2</th>\n",
       "      <td>1</td>\n",
       "      <td>3</td>\n",
       "      <td>female</td>\n",
       "      <td>26.0</td>\n",
       "      <td>7.9250</td>\n",
       "      <td>S</td>\n",
       "      <td>1</td>\n",
       "    </tr>\n",
       "    <tr>\n",
       "      <th>3</th>\n",
       "      <td>1</td>\n",
       "      <td>1</td>\n",
       "      <td>female</td>\n",
       "      <td>35.0</td>\n",
       "      <td>53.1000</td>\n",
       "      <td>S</td>\n",
       "      <td>0</td>\n",
       "    </tr>\n",
       "    <tr>\n",
       "      <th>4</th>\n",
       "      <td>0</td>\n",
       "      <td>3</td>\n",
       "      <td>male</td>\n",
       "      <td>35.0</td>\n",
       "      <td>8.0500</td>\n",
       "      <td>S</td>\n",
       "      <td>1</td>\n",
       "    </tr>\n",
       "  </tbody>\n",
       "</table>\n",
       "</div>"
      ],
      "text/plain": [
       "   Survived  Pclass     Sex   Age     Fare Embarked  IsTravelAlone\n",
       "0         0       3    male  22.0   7.2500        S              0\n",
       "1         1       1  female  38.0  71.2833        C              0\n",
       "2         1       3  female  26.0   7.9250        S              1\n",
       "3         1       1  female  35.0  53.1000        S              0\n",
       "4         0       3    male  35.0   8.0500        S              1"
      ]
     },
     "execution_count": 7,
     "metadata": {},
     "output_type": "execute_result"
    }
   ],
   "source": [
    "# SibSp and Parch are the informations about number of sibling/spouse abroad and number of parent/child abroad. \n",
    "# These columns can be combined into a single column of boolean values whether the passenger travelled alone or not\n",
    "train_data[\"IsTravelAlone\"] = np.where((train_data['SibSp'] + train_data['Parch']) >0,0,1)\n",
    "train_data.drop(['SibSp','Parch'], axis=1, inplace=True)\n",
    "train_data.head()"
   ]
  },
  {
   "cell_type": "code",
   "execution_count": 8,
   "metadata": {},
   "outputs": [],
   "source": [
    "train_data = pd.get_dummies(train_data,columns = [\"Pclass\",\"Embarked\",\"Sex\"])\n",
    "train_data.drop(['Sex_female'], axis=1, inplace=True)"
   ]
  },
  {
   "cell_type": "code",
   "execution_count": 42,
   "metadata": {},
   "outputs": [
    {
     "name": "stdout",
     "output_type": "stream",
     "text": [
      "   Survived   Age     Fare  IsTravelAlone  Pclass_1  Pclass_2  Pclass_3  \\\n",
      "0         0  22.0   7.2500              0         0         0         1   \n",
      "1         1  38.0  71.2833              0         1         0         0   \n",
      "2         1  26.0   7.9250              1         0         0         1   \n",
      "3         1  35.0  53.1000              0         1         0         0   \n",
      "4         0  35.0   8.0500              1         0         0         1   \n",
      "\n",
      "   Embarked_C  Embarked_Q  Embarked_S  Sex_male  \n",
      "0           0           0           1         1  \n",
      "1           1           0           0         0  \n",
      "2           0           0           1         0  \n",
      "3           0           0           1         0  \n",
      "4           0           0           1         1  \n",
      "Survived         0\n",
      "Age              0\n",
      "Fare             0\n",
      "IsTravelAlone    0\n",
      "Pclass_1         0\n",
      "Pclass_2         0\n",
      "Pclass_3         0\n",
      "Embarked_C       0\n",
      "Embarked_Q       0\n",
      "Embarked_S       0\n",
      "Sex_male         0\n",
      "dtype: int64\n"
     ]
    },
    {
     "data": {
      "text/html": [
       "<div>\n",
       "<style scoped>\n",
       "    .dataframe tbody tr th:only-of-type {\n",
       "        vertical-align: middle;\n",
       "    }\n",
       "\n",
       "    .dataframe tbody tr th {\n",
       "        vertical-align: top;\n",
       "    }\n",
       "\n",
       "    .dataframe thead th {\n",
       "        text-align: right;\n",
       "    }\n",
       "</style>\n",
       "<table border=\"1\" class=\"dataframe\">\n",
       "  <thead>\n",
       "    <tr style=\"text-align: right;\">\n",
       "      <th></th>\n",
       "      <th>Survived</th>\n",
       "      <th>Age</th>\n",
       "      <th>Fare</th>\n",
       "      <th>IsTravelAlone</th>\n",
       "      <th>Pclass_1</th>\n",
       "      <th>Pclass_2</th>\n",
       "      <th>Pclass_3</th>\n",
       "      <th>Embarked_C</th>\n",
       "      <th>Embarked_Q</th>\n",
       "      <th>Embarked_S</th>\n",
       "      <th>Sex_male</th>\n",
       "    </tr>\n",
       "  </thead>\n",
       "  <tbody>\n",
       "    <tr>\n",
       "      <th>0</th>\n",
       "      <td>0</td>\n",
       "      <td>22.0</td>\n",
       "      <td>7.2500</td>\n",
       "      <td>0</td>\n",
       "      <td>0</td>\n",
       "      <td>0</td>\n",
       "      <td>1</td>\n",
       "      <td>0</td>\n",
       "      <td>0</td>\n",
       "      <td>1</td>\n",
       "      <td>1</td>\n",
       "    </tr>\n",
       "    <tr>\n",
       "      <th>1</th>\n",
       "      <td>1</td>\n",
       "      <td>38.0</td>\n",
       "      <td>71.2833</td>\n",
       "      <td>0</td>\n",
       "      <td>1</td>\n",
       "      <td>0</td>\n",
       "      <td>0</td>\n",
       "      <td>1</td>\n",
       "      <td>0</td>\n",
       "      <td>0</td>\n",
       "      <td>0</td>\n",
       "    </tr>\n",
       "    <tr>\n",
       "      <th>2</th>\n",
       "      <td>1</td>\n",
       "      <td>26.0</td>\n",
       "      <td>7.9250</td>\n",
       "      <td>1</td>\n",
       "      <td>0</td>\n",
       "      <td>0</td>\n",
       "      <td>1</td>\n",
       "      <td>0</td>\n",
       "      <td>0</td>\n",
       "      <td>1</td>\n",
       "      <td>0</td>\n",
       "    </tr>\n",
       "    <tr>\n",
       "      <th>3</th>\n",
       "      <td>1</td>\n",
       "      <td>35.0</td>\n",
       "      <td>53.1000</td>\n",
       "      <td>0</td>\n",
       "      <td>1</td>\n",
       "      <td>0</td>\n",
       "      <td>0</td>\n",
       "      <td>0</td>\n",
       "      <td>0</td>\n",
       "      <td>1</td>\n",
       "      <td>0</td>\n",
       "    </tr>\n",
       "    <tr>\n",
       "      <th>4</th>\n",
       "      <td>0</td>\n",
       "      <td>35.0</td>\n",
       "      <td>8.0500</td>\n",
       "      <td>1</td>\n",
       "      <td>0</td>\n",
       "      <td>0</td>\n",
       "      <td>1</td>\n",
       "      <td>0</td>\n",
       "      <td>0</td>\n",
       "      <td>1</td>\n",
       "      <td>1</td>\n",
       "    </tr>\n",
       "  </tbody>\n",
       "</table>\n",
       "</div>"
      ],
      "text/plain": [
       "   Survived   Age     Fare  IsTravelAlone  Pclass_1  Pclass_2  Pclass_3  \\\n",
       "0         0  22.0   7.2500              0         0         0         1   \n",
       "1         1  38.0  71.2833              0         1         0         0   \n",
       "2         1  26.0   7.9250              1         0         0         1   \n",
       "3         1  35.0  53.1000              0         1         0         0   \n",
       "4         0  35.0   8.0500              1         0         0         1   \n",
       "\n",
       "   Embarked_C  Embarked_Q  Embarked_S  Sex_male  \n",
       "0           0           0           1         1  \n",
       "1           1           0           0         0  \n",
       "2           0           0           1         0  \n",
       "3           0           0           1         0  \n",
       "4           0           0           1         1  "
      ]
     },
     "execution_count": 42,
     "metadata": {},
     "output_type": "execute_result"
    }
   ],
   "source": [
    "print(train_data.head())\n",
    "print(train_data.isnull().sum())\n",
    "train_data.head()"
   ]
  },
  {
   "cell_type": "markdown",
   "metadata": {},
   "source": [
    "<h3>Data preprocessing for test data</h3><br/>"
   ]
  },
  {
   "cell_type": "code",
   "execution_count": 10,
   "metadata": {},
   "outputs": [
    {
     "data": {
      "text/plain": [
       "PassengerId      0\n",
       "Pclass           0\n",
       "Name             0\n",
       "Sex              0\n",
       "Age             86\n",
       "SibSp            0\n",
       "Parch            0\n",
       "Ticket           0\n",
       "Fare             1\n",
       "Cabin          327\n",
       "Embarked         0\n",
       "dtype: int64"
      ]
     },
     "execution_count": 10,
     "metadata": {},
     "output_type": "execute_result"
    }
   ],
   "source": [
    "test_df.isnull().sum()"
   ]
  },
  {
   "cell_type": "code",
   "execution_count": 11,
   "metadata": {},
   "outputs": [
    {
     "name": "stdout",
     "output_type": "stream",
     "text": [
      "Age              0\n",
      "Fare             0\n",
      "IsTravelAlone    0\n",
      "Pclass_1         0\n",
      "Pclass_2         0\n",
      "Pclass_3         0\n",
      "Embarked_C       0\n",
      "Embarked_Q       0\n",
      "Embarked_S       0\n",
      "Sex_male         0\n",
      "dtype: int64\n"
     ]
    }
   ],
   "source": [
    "test_data=test_df.copy()\n",
    "test_data[\"Age\"].fillna(test_df[\"Age\"].median(skipna=True), inplace=True)\n",
    "test_data[\"Fare\"].fillna(train_df[\"Fare\"].median(skipna=True), inplace=True)\n",
    "test_data[\"IsTravelAlone\"] = np.where((test_data['SibSp'] + test_data['Parch']) >0,0,1)\n",
    "test_data = pd.get_dummies(test_data,columns = [\"Pclass\",\"Embarked\",\"Sex\"])\n",
    "\n",
    "test_data.drop(['PassengerId','Cabin', 'Ticket','Name','SibSp','Parch','Sex_female'], axis=1, inplace=True)\n",
    "print(test_data.isnull().sum())"
   ]
  },
  {
   "cell_type": "markdown",
   "metadata": {},
   "source": [
    "<h3>Data Analysis</h3>"
   ]
  },
  {
   "cell_type": "code",
   "execution_count": 12,
   "metadata": {},
   "outputs": [
    {
     "name": "stderr",
     "output_type": "stream",
     "text": [
      "C:\\Users\\Naveena\\Anaconda3\\lib\\site-packages\\scipy\\stats\\stats.py:1713: FutureWarning: Using a non-tuple sequence for multidimensional indexing is deprecated; use `arr[tuple(seq)]` instead of `arr[seq]`. In the future this will be interpreted as an array index, `arr[np.array(seq)]`, which will result either in an error or a different result.\n",
      "  return np.add.reduce(sorted[indexer] * weights, axis=axis) / sumval\n"
     ]
    },
    {
     "data": {
      "image/png": "[encoded data removed]",
      "text/plain": [
       "<Figure size 720x360 with 1 Axes>"
      ]
     },
     "metadata": {
      "needs_background": "light"
     },
     "output_type": "display_data"
    }
   ],
   "source": [
    "#Density plot of Age against the survival status\n",
    "plt.figure(figsize=(10,5))\n",
    "ax = sns.kdeplot(train_data[\"Age\"][train_data.Survived == 1], color=\"cyan\", shade=True)\n",
    "sns.kdeplot(train_data[\"Age\"][train_data.Survived == 0], color=\"lightcoral\", shade=True)\n",
    "plt.legend(['Survived', 'Died'])\n",
    "plt.title('Density Plot of Age with the survived population')\n",
    "ax.set(xlabel='Age')\n",
    "plt.xlim(-10,85)\n",
    "plt.show()"
   ]
  },
  {
   "cell_type": "code",
   "execution_count": 37,
   "metadata": {},
   "outputs": [
    {
     "data": {
      "image/png": "[encoded data removed]",
      "text/plain": [
       "<Figure size 432x288 with 1 Axes>"
      ]
     },
     "metadata": {
      "needs_background": "light"
     },
     "output_type": "display_data"
    }
   ],
   "source": [
    "#Passenger class with the survived population\n",
    "sns.barplot('Pclass', 'Survived', data=train_df, color=\"cyan\")\n",
    "plt.title('Bar Plot of Passenger class with the survived population')\n",
    "plt.show()"
   ]
  },
  {
   "cell_type": "code",
   "execution_count": 39,
   "metadata": {},
   "outputs": [
    {
     "data": {
      "image/png": "[encoded data removed]",
      "text/plain": [
       "<Figure size 432x288 with 1 Axes>"
      ]
     },
     "metadata": {
      "needs_background": "light"
     },
     "output_type": "display_data"
    }
   ],
   "source": [
    "#Embarked column with the survived population\n",
    "sns.barplot('Embarked', 'Survived', data=train_df, color=\"turquoise\")\n",
    "plt.show()"
   ]
  },
  {
   "cell_type": "code",
   "execution_count": 41,
   "metadata": {},
   "outputs": [
    {
     "data": {
      "image/png": "[encoded data removed]",
      "text/plain": [
       "<Figure size 432x288 with 1 Axes>"
      ]
     },
     "metadata": {
      "needs_background": "light"
     },
     "output_type": "display_data"
    }
   ],
   "source": [
    "#Gender with the survived population\n",
    "sns.barplot('Sex', 'Survived', data=train_df, color=\"aqua\")\n",
    "plt.show()"
   ]
  },
  {
   "cell_type": "code",
   "execution_count": 13,
   "metadata": {},
   "outputs": [
    {
     "data": {
      "image/png": "[encoded data removed]",
      "text/plain": [
       "<Figure size 720x720 with 2 Axes>"
      ]
     },
     "metadata": {
      "needs_background": "light"
     },
     "output_type": "display_data"
    }
   ],
   "source": [
    "#correlations of each features in dataset\n",
    "corrmat = train_data.corr()\n",
    "top_corr_features = corrmat.index\n",
    "plt.figure(figsize=(10,10))\n",
    "#plot heat map\n",
    "g=sns.heatmap(train_data[top_corr_features].corr(),annot=True,cmap=\"RdYlGn\")"
   ]
  },
  {
   "cell_type": "code",
   "execution_count": 33,
   "metadata": {},
   "outputs": [
    {
     "name": "stderr",
     "output_type": "stream",
     "text": [
      "C:\\Users\\Naveena\\Anaconda3\\lib\\site-packages\\sklearn\\preprocessing\\data.py:625: DataConversionWarning: Data with input dtype uint8, int32, float64 were all converted to float64 by StandardScaler.\n",
      "  return self.partial_fit(X, y)\n",
      "C:\\Users\\Naveena\\Anaconda3\\lib\\site-packages\\sklearn\\base.py:462: DataConversionWarning: Data with input dtype uint8, int32, float64 were all converted to float64 by StandardScaler.\n",
      "  return self.fit(X, **fit_params).transform(X)\n",
      "C:\\Users\\Naveena\\Anaconda3\\lib\\site-packages\\ipykernel_launcher.py:11: DataConversionWarning: Data with input dtype uint8, int32, float64 were all converted to float64 by StandardScaler.\n",
      "  # This is added back by InteractiveShellApp.init_path()\n"
     ]
    }
   ],
   "source": [
    "from sklearn.model_selection import train_test_split\n",
    "X = train_data[[\"Age\",\"Fare\",\"IsTravelAlone\",\"Pclass_1\",\"Pclass_2\",\"Embarked_C\",\"Embarked_S\",\"Sex_male\"]]\n",
    "y = train_data[\"Survived\"]\n",
    "\n",
    "X_train, X_test, y_train, y_test = train_test_split(X, y, test_size=0.25, random_state=0)\n",
    "\n",
    "# Feature Scaling\n",
    "from sklearn.preprocessing import StandardScaler\n",
    "sc = StandardScaler()\n",
    "X_train = sc.fit_transform(X_train)\n",
    "X_test = sc.transform(X_test)\n"
   ]
  },
  {
   "cell_type": "code",
   "execution_count": 15,
   "metadata": {},
   "outputs": [
    {
     "name": "stdout",
     "output_type": "stream",
     "text": [
      "Optimization terminated successfully.\n",
      "         Current function value: 0.483399\n",
      "         Iterations 6\n",
      "                         Results: Logit\n",
      "=================================================================\n",
      "Model:              Logit            Pseudo R-squared: 0.275     \n",
      "Dependent Variable: Survived         AIC:              661.8215  \n",
      "Date:               2019-07-09 14:37 BIC:              697.8558  \n",
      "No. Observations:   668              Log-Likelihood:   -322.91   \n",
      "Df Model:           7                LL-Null:          -445.58   \n",
      "Df Residuals:       660              LLR p-value:      2.7292e-49\n",
      "Converged:          1.0000           Scale:            1.0000    \n",
      "No. Iterations:     6.0000                                       \n",
      "-------------------------------------------------------------------\n",
      "          Coef.    Std.Err.      z       P>|z|     [0.025    0.975]\n",
      "-------------------------------------------------------------------\n",
      "x1       -0.4042     0.1103    -3.6646   0.0002   -0.6204   -0.1880\n",
      "x2        0.0454     0.1313     0.3458   0.7295   -0.2119    0.3027\n",
      "x3        0.0584     0.1084     0.5386   0.5901   -0.1541    0.2709\n",
      "x4        0.8375     0.1360     6.1601   0.0000    0.5711    1.1040\n",
      "x5        0.4743     0.1033     4.5907   0.0000    0.2718    0.6768\n",
      "x6        0.0644     0.1597     0.4030   0.6869   -0.2486    0.3773\n",
      "x7       -0.1744     0.1555    -1.1216   0.2620   -0.4791    0.1304\n",
      "x8       -1.2505     0.1102   -11.3432   0.0000   -1.4665   -1.0344\n",
      "=================================================================\n",
      "\n"
     ]
    }
   ],
   "source": [
    "import statsmodels.api as sm\n",
    "\n",
    "logit_model=sm.Logit(y_train,X_train)\n",
    "result=logit_model.fit()\n",
    "print(result.summary2())"
   ]
  },
  {
   "cell_type": "code",
   "execution_count": 16,
   "metadata": {},
   "outputs": [
    {
     "name": "stdout",
     "output_type": "stream",
     "text": [
      "[[-0.41453479  0.01759143  0.02737626  0.8794033   0.5215685   0.019064\n",
      "  -0.22212769 -1.205213  ]]\n",
      "Confusion Matrix \n",
      " [[115  24]\n",
      " [ 23  61]]\n",
      "Accuracy :  78.9237668161435 %\n"
     ]
    },
    {
     "name": "stderr",
     "output_type": "stream",
     "text": [
      "C:\\Users\\Naveena\\Anaconda3\\lib\\site-packages\\sklearn\\linear_model\\logistic.py:433: FutureWarning: Default solver will be changed to 'lbfgs' in 0.22. Specify a solver to silence this warning.\n",
      "  FutureWarning)\n"
     ]
    }
   ],
   "source": [
    "from sklearn.linear_model import LogisticRegression\n",
    "\n",
    "logreg = LogisticRegression() \n",
    "logreg.fit(X_train,y_train)\n",
    "print(logreg.coef_)\n",
    "\n",
    "# Predicting the Test set results\n",
    "y_pred = logreg.predict(X_test)\n",
    "\n",
    "# Compute the Confusion Matrix\n",
    "from sklearn.metrics import confusion_matrix\n",
    "cm = confusion_matrix(y_test, y_pred)\n",
    "\n",
    "print(\"Confusion Matrix \\n\",cm)\n",
    "accuracy = logreg.score(X_test,y_test)\n",
    "print(\"Accuracy : \", (accuracy * 100),'%')"
   ]
  },
  {
   "cell_type": "code",
   "execution_count": 17,
   "metadata": {},
   "outputs": [],
   "source": [
    "def sigmoid(w,X):\n",
    "    return 1.0/(1 + np.exp(-np.dot(X, w.T))) \n",
    "\n",
    "\n",
    "def cost(w,X,y):\n",
    "    y = y[:,None]\n",
    "    ypred = sigmoid(w,X)\n",
    "    costval = -np.sum(np.multiply(y, np.log(ypred)) + np.multiply((1 - y), np.log(1 - ypred))) / (len(X)) \n",
    "    return costval\n",
    "\n",
    "#Vanilla gradient descent algorithm\n",
    "def gradientdescent(X,y,w,iterations,lr=0.001,precision=0.000001):\n",
    "    costval = cost(w,X,y)\n",
    "    change_cost = 1\n",
    "    n_iter = 0\n",
    "    cost_history = np.zeros(iterations)\n",
    "    \n",
    "    \n",
    "    while(change_cost > precision and n_iter < iterations):\n",
    "        prev_costval = costval\n",
    "        #Logistic gradient\n",
    "        grad = np.dot((sigmoid(w, X) - y[:,None]).T, X)\n",
    "        w = w - (lr * grad)\n",
    "        costval = cost(w,X,y)\n",
    "        cost_history[n_iter] = costval\n",
    "        change_cost = prev_costval - costval\n",
    "        n_iter += 1\n",
    "    return w,n_iter+1,cost_history\n",
    "\n",
    "def predict(w, X): \n",
    "    pred_prob = sigmoid(w, X) \n",
    "    pred_value = np.where(pred_prob >= .5, 1, 0) \n",
    "    return np.squeeze(pred_value) "
   ]
  },
  {
   "cell_type": "code",
   "execution_count": 18,
   "metadata": {},
   "outputs": [
    {
     "name": "stdout",
     "output_type": "stream",
     "text": [
      "(668, 9) (668,)\n",
      "Estimated regression coefficients: [[-0.62940384 -0.42185745  0.01606745  0.03340444  0.89104112  0.52823296\n",
      "   0.03062518 -0.2128761  -1.22152831]]\n",
      "No. of iterations: 121\n",
      "Correctly predicted labels: 531 out of 668\n",
      "MSE  [0.61430114 0.56923337 0.54101134 0.52206819 0.50869603 0.4988916\n",
      " 0.49148574 0.4857543  0.48122748 0.47758909 0.47461985 0.47216386\n",
      " 0.47010792 0.46836832 0.46688218 0.46560154 0.46448937 0.46351673\n",
      " 0.46266074 0.46190312 0.46122914 0.46062682 0.46008631 0.45959945\n",
      " 0.45915946 0.45876062 0.45839809 0.45806776 0.45776609 0.45749004\n",
      " 0.45723698 0.4570046  0.45679088 0.45659405 0.45641256 0.456245\n",
      " 0.45609014 0.45594688 0.45581423 0.4556913  0.45557728 0.45547145\n",
      " 0.45537315 0.45528179 0.45519683 0.45511778 0.45504417 0.45497561\n",
      " 0.45491171 0.45485214 0.45479656 0.4547447  0.45469628 0.45465105\n",
      " 0.4546088  0.4545693  0.45453237 0.45449782 0.4544655  0.45443524\n",
      " 0.45440691 0.45438038 0.45435552 0.45433222 0.45431037 0.45428989\n",
      " 0.45427067 0.45425264 0.45423571 0.45421981 0.45420489 0.45419086\n",
      " 0.45417768 0.45416529 0.45415364 0.45414269 0.45413238 0.45412268\n",
      " 0.45411355 0.45410495 0.45409685 0.45408922 0.45408203 0.45407526\n",
      " 0.45406887 0.45406284 0.45405716 0.45405179 0.45404673 0.45404195\n",
      " 0.45403744 0.45403317 0.45402914 0.45402533 0.45402173 0.45401833\n",
      " 0.45401511 0.45401207 0.45400918 0.45400646 0.45400387 0.45400143\n",
      " 0.45399911 0.45399691 0.45399483 0.45399286 0.45399099 0.45398922\n",
      " 0.45398754 0.45398594 0.45398443 0.45398299 0.45398163 0.45398033\n",
      " 0.4539791  0.45397793 0.45397682 0.45397576 0.45397476 0.45397381\n",
      " 0.        ]\n"
     ]
    }
   ],
   "source": [
    "#Numpy array of features\n",
    "X = np.hstack((np.matrix(np.ones(X_train.shape[0])).T, X_train)) \n",
    "\n",
    "# Output vector \n",
    "y = y_train\n",
    "print(X.shape,y.shape)  \n",
    "# initial w values \n",
    "w = np.matrix(np.zeros(X.shape[1])) \n",
    "num = 500\n",
    "# w values after running gradient descent \n",
    "w, num_iter,cost_history = gradientdescent(X, y, w,num) \n",
    "  \n",
    "# estimated w values and number of iterations \n",
    "print(\"Estimated regression coefficients:\", w) \n",
    "print(\"No. of iterations:\", num_iter) \n",
    "# predicted labels \n",
    "y_pred = predict(w, X)\n",
    "# number of correctly predicted labels \n",
    "print(\"Correctly predicted labels:\", np.sum(y == y_pred),\"out of\",X.shape[0]) \n",
    "print(\"MSE \",cost_history[0:num_iter])"
   ]
  },
  {
   "cell_type": "code",
   "execution_count": 19,
   "metadata": {},
   "outputs": [
    {
     "data": {
      "text/plain": [
       "[<matplotlib.lines.Line2D at 0x2219b882e80>]"
      ]
     },
     "execution_count": 19,
     "metadata": {},
     "output_type": "execute_result"
    },
    {
     "data": {
      "image/png": "[encoded data removed]",
      "text/plain": [
       "<Figure size 864x576 with 1 Axes>"
      ]
     },
     "metadata": {
      "needs_background": "light"
     },
     "output_type": "display_data"
    }
   ],
   "source": [
    "fig,ax = plt.subplots(figsize=(12,8))\n",
    "\n",
    "ax.set_ylabel('Cost function f(w)')\n",
    "ax.set_xlabel('Iterations')\n",
    "ax.plot(range(num),cost_history,'b.')\n"
   ]
  },
  {
   "cell_type": "code",
   "execution_count": 20,
   "metadata": {},
   "outputs": [
    {
     "name": "stdout",
     "output_type": "stream",
     "text": [
      "[[115  24]\n",
      " [ 23  61]]\n"
     ]
    }
   ],
   "source": [
    "X = np.hstack((np.matrix(np.ones(X_test.shape[0])).T, X_test))\n",
    "y_pred = predict(w,X)\n",
    "\n",
    "# Compute the Confusion Matrix\n",
    "from sklearn.metrics import confusion_matrix\n",
    "cm = confusion_matrix(y_test, y_pred)\n",
    "print(cm)"
   ]
  },
  {
   "cell_type": "code",
   "execution_count": 53,
   "metadata": {},
   "outputs": [
    {
     "name": "stdout",
     "output_type": "stream",
     "text": [
      "Estimated regression coefficients: [[-0.58956742 -0.43644498  0.02953795  0.00284464  0.92863398  0.49671354\n",
      "   0.00866862 -0.25243295 -1.25132783]]\n",
      "Correctly predicted labels: 528 out of 668\n",
      "MSE [359.77816848 317.28063789 311.11586711 309.02479041 308.12793068\n",
      " 307.70993083 307.50732725 307.40674486 307.35598675 307.33011372\n",
      " 307.31689776 307.31021505 307.30694052 307.30545202 307.30489485\n",
      " 307.30481328 307.30496267 307.30521175 307.30549102 307.30576486\n",
      " 307.30601634 307.30623873 307.30643075 307.30659392 307.30673103\n",
      " 307.30684531 307.30694    307.30701812 307.30708234 307.307135\n",
      " 307.30717811 307.30721334 307.3072421  307.30726556 307.30728468\n",
      " 307.30730026 307.30731295 307.30732328 307.30733169 307.30733854\n",
      " 307.30734411 307.30734864 307.30735233 307.30735533 307.30735777\n",
      " 307.30735976 307.30736138 307.30736269 307.30736376 307.30736464\n",
      " 307.30736535 307.30736592 307.30736639 307.30736677 307.30736709\n",
      " 307.30736734 307.30736754 307.30736771 307.30736785 307.30736796\n",
      " 307.30736805 307.30736812 307.30736818 307.30736823 307.30736827\n",
      " 307.3073683  307.30736833 307.30736835 307.30736837 307.30736838\n",
      " 307.3073684  307.3073684  307.30736841 307.30736842 307.30736842\n",
      " 307.30736843 307.30736843 307.30736843 307.30736844 307.30736844\n",
      " 307.30736844 307.30736844 307.30736844 307.30736844 307.30736844\n",
      " 307.30736844 307.30736844 307.30736844 307.30736844 307.30736844\n",
      " 307.30736844 307.30736844 307.30736845 307.30736845 307.30736845\n",
      " 307.30736845 307.30736845 307.30736845 307.30736845 307.30736845]\n"
     ]
    }
   ],
   "source": [
    "def stocashtic_gradient_descent(X,y,w,iterations,lr=0.01):\n",
    "    m = len(y)\n",
    "    cost_history = np.zeros(iterations)\n",
    "    for i in range(iterations):\n",
    "        costval = 0.0\n",
    "        for j in range(m):\n",
    "            y=np.array(y)\n",
    "            Xi = X[j,:].reshape(1,X.shape[1])\n",
    "            yi = y[j].reshape(1,1)\n",
    "            #Logistic gradient\n",
    "            ypred = sigmoid(w, Xi)\n",
    "            grad = np.dot((ypred - yi).T, Xi)\n",
    "            w = w - (lr * grad)\n",
    "            pos = np.multiply(yi, np.log(ypred))\n",
    "            neg = np.multiply((1 - yi), np.log(1 - ypred))\n",
    "            val = -np.sum(pos + neg) / (len(Xi))\n",
    "            costval += val      \n",
    "        cost_history[i]  = costval\n",
    "    return w,cost_history \n",
    "        \n",
    "#Numpy array of features\n",
    "X = np.hstack((np.matrix(np.ones(X_train.shape[0])).T, X_train)) \n",
    "\n",
    "# Output vector \n",
    "y = y_train\n",
    "\n",
    "# initial w values \n",
    "w = np.matrix(np.zeros(X.shape[1])) \n",
    "num = 100\n",
    "# w values after running gradient descent \n",
    "w,cost_hist = stocashtic_gradient_descent(X, y, w,num) \n",
    "  \n",
    "# estimated w values and number of iterations \n",
    "print(\"Estimated regression coefficients:\", w) \n",
    "\n",
    "# predicted labels \n",
    "y_pred = predict(w, X)\n",
    "# number of correctly predicted labels \n",
    "print(\"Correctly predicted labels:\", np.sum(y == y_pred),\"out of\",X.shape[0]) \n",
    "print(\"MSE\",cost_hist)"
   ]
  },
  {
   "cell_type": "code",
   "execution_count": 54,
   "metadata": {},
   "outputs": [
    {
     "data": {
      "text/plain": [
       "[<matplotlib.lines.Line2D at 0x2219e9fa668>]"
      ]
     },
     "execution_count": 54,
     "metadata": {},
     "output_type": "execute_result"
    },
    {
     "data": {
      "image/png": "[encoded data removed]",
      "text/plain": [
       "<Figure size 864x576 with 1 Axes>"
      ]
     },
     "metadata": {
      "needs_background": "light"
     },
     "output_type": "display_data"
    }
   ],
   "source": [
    "fig,ax = plt.subplots(figsize=(12,8))\n",
    "\n",
    "ax.set_ylabel('Cost function f(w)')\n",
    "ax.set_xlabel('Iterations')\n",
    "ax.plot(range(num),cost_hist,'b.')\n"
   ]
  },
  {
   "cell_type": "code",
   "execution_count": 24,
   "metadata": {
    "scrolled": true
   },
   "outputs": [
    {
     "name": "stdout",
     "output_type": "stream",
     "text": [
      "(668, 9) (668, 1)\n",
      "W (1, 9)\n",
      "Estimated regression coefficients: [[-0.60283851 -0.35921032  0.07523982  0.0206893   0.76464302  0.47134608\n",
      "   0.07201926 -0.16486603 -1.18780159]]\n",
      "Correctly predicted labels: 531 out of 668\n",
      "MSE  [23.42135828 23.13600015 22.85524194 22.57265598 22.34609689 22.10386772\n",
      " 21.87497477 21.65280402 21.42303674 21.24473366 21.05130988 20.9080267\n",
      " 20.72256697 20.63558658 20.43497273 20.25786422 20.08901705 19.95856049\n",
      " 19.8662296  19.68773408 19.61227931 19.50123923 19.40965315 19.23568551\n",
      " 19.10775914 19.09214082 18.9279907  18.81866542 18.73681657 18.68242647\n",
      " 18.65517009 18.61257804 18.44776205 18.34885331 18.37614553 18.36668357\n",
      " 18.16222658 18.04232556 18.02790111 18.09652128 17.96009836 17.86230572\n",
      " 17.96185817 17.88186832 17.68602128 17.55297122 17.70869204 17.74646533\n",
      " 17.60672677 17.48368172 17.41698012 17.462488   17.30020681 17.29857771\n",
      " 17.21617809 17.20981775 17.15805082 17.23496495 17.09810561 17.28238968\n",
      " 17.08834703 17.12065428 17.05849948 16.96193779 16.98555403 16.86050617\n",
      " 16.86278689 16.84033043 16.95723118 16.76751085 16.90242034 16.74702902\n",
      " 16.80248786 16.68675668 16.76597779 16.77717564 16.8155907  16.57447051\n",
      " 16.6492979  16.5520037  16.59660165 16.63409842 16.84845047 16.71947105\n",
      " 16.46088219 16.43265934 16.55990113 16.61017372 16.64620109 16.33759878\n",
      " 16.47830123 16.43652092 16.41379549 16.45888645 16.28777973 16.33937866\n",
      " 16.56289331 16.30193459 16.30752173 16.32389095 16.27102445 16.32546063\n",
      " 16.49781468 16.17521421 16.19335623 16.25329031 16.40453518 16.26803934\n",
      " 16.35145801 16.15325461 16.13292994 16.05824218 16.11196331 16.07301888\n",
      " 16.02725536 16.31516405 16.02594392 16.17382346 16.13129006 16.08960207\n",
      " 16.26361914 16.16194957 16.0295339  16.202247   16.19117488 16.10968203\n",
      " 16.21886814 16.18618735 16.15415759 16.00706879 15.9173876  15.87289689\n",
      " 16.03929847 15.90958776 16.00542162 15.9301359  15.94535568 15.9089906\n",
      " 16.10068882 15.89058398 15.88906896 16.21316005 16.04453259 15.88084284\n",
      " 15.84665662 15.99471391 15.87468706 15.90096489 16.04425829 15.99759307\n",
      " 15.87582926 16.10298494 16.04086574 16.039885   15.90038998 15.96523643\n",
      " 15.89211413 15.93502993 15.92553504 15.7933984  15.99940683 15.96691731\n",
      " 15.76887993 15.88588281 15.7530762  15.76185105 15.70850589 15.71301843\n",
      " 15.92022493 15.84464369 15.8111664  15.69821513 15.85328653 15.78898523\n",
      " 15.70145029 15.94647044 15.8125839  15.87112383 15.74112688 15.73777882\n",
      " 15.73369506 15.77789073 15.85443163 15.67810966 15.8537954  15.79937777\n",
      " 15.70661777 15.86172057 15.85369134 15.84098789 15.83730239 15.82438589\n",
      " 15.79087681 15.59289467 15.64229757 15.77138151 15.87814567 15.72538619\n",
      " 15.69143039 15.67800164 15.68677353 15.71904248 15.60042639 15.86998021\n",
      " 15.65498657 15.75069264 15.69625355 15.65899265 15.73610113 15.8183872\n",
      " 15.53860189 15.50196062 15.61469414 15.54905212 15.68339027 15.8374589\n",
      " 15.85623961 15.80601055 15.94276928 15.64380168 15.72012724 15.6541929\n",
      " 15.74099741 15.80233353 15.63708332 15.8046927  15.58669998 15.74256626\n",
      " 15.87596642 15.69878146 15.69892794 15.51918673 15.54600498 15.8744466\n",
      " 15.51628383 15.57047221 15.63519556 15.50628041 15.55462083 15.73397963\n",
      " 15.66184437 15.6199428  15.56806217 15.86097306 15.66180935 15.67659779\n",
      " 15.87119706 15.48087586 15.50997919 15.68836912 15.77290929 15.60453807\n",
      " 15.56233533 15.5978353  15.56260695 15.51312768 15.5576798  15.46264749\n",
      " 15.57292181 15.63947319 15.55400254 15.72077248 15.67183907 15.62467085\n",
      " 15.61957297 15.48474173 15.52110382 15.68920251 15.63647509 15.49859763\n",
      " 15.52287284 15.60714108 15.86746445 15.64409488 15.56074703 15.62519788\n",
      " 15.77801163 15.53890782 15.44889138 15.64251707 15.73575046 15.57866304\n",
      " 15.45793135 15.72184172 15.64197362 15.5221992  15.56478743 15.61431885\n",
      " 15.54516758 15.51492693 15.7488481  15.47984133 15.57808983 15.60773433\n",
      " 15.53109007 15.6548074  15.53298308 15.61205849 15.7155034  15.37689282\n",
      " 15.48966022 15.58169839 15.53927483 15.48718019 15.51503879 15.4306243\n",
      " 15.47012699 15.50103849 15.80341571 15.54689153 15.50024493 15.8890183\n",
      " 15.40538092 15.58556426 15.5789275  15.50574317 15.41341622 15.55684228\n",
      " 15.42566488 15.50652569 15.44570236 15.73682953 15.68858853 15.3573325\n",
      " 15.66186967 15.42965356 15.51889975 15.88272117 15.37840353 15.66670375\n",
      " 15.49134329 15.49753971 15.45119557 15.52818677 15.76467897 15.48361664\n",
      " 15.50331564 15.39571607 15.44147802 15.36755781 15.79897197 15.71378408\n",
      " 15.56861741 15.3956887  15.58832204 15.60323525 15.37734669 15.88316636\n",
      " 15.51226654 15.48542371 15.51752072 15.56814715 15.49219012 15.57961614\n",
      " 15.45822054 15.49885415 15.54579212 15.84616633 15.60450582 15.39877419\n",
      " 15.48040429 15.51734876 15.6167564  15.81780793 15.41683406 15.39904645\n",
      " 15.59277524 15.59195959 15.42575371 15.40072651 15.62373219 15.47048422\n",
      " 15.42651819 15.34918229 15.44262514 15.54287555 15.49071505 15.67937781\n",
      " 15.48829924 15.40324563 15.5205794  15.61900169 15.34663555 15.58410095\n",
      " 15.57702515 15.57818941 15.45271159 15.56456711 15.50225724 15.518272\n",
      " 15.54772    15.5692903  15.40517988 15.54991515 15.34880778 15.68831332\n",
      " 15.6808149  15.51739538 15.47170065 15.55833821 15.71491163 15.5379923\n",
      " 15.52368797 15.3621947  15.55024226 15.50238368 15.76160173 15.50810716\n",
      " 15.42462608 15.59565835 15.51857931 15.44663475 15.72432976 15.40626505\n",
      " 15.3253342  15.52408717 15.71377879 15.39723395 15.42340774 15.70881143\n",
      " 15.37943172 15.35426487 15.5235853  15.38876445 15.76420484 15.49862773\n",
      " 15.55641569 15.46414303 15.68932737 15.32453968 15.32782517 15.72493682\n",
      " 15.58145389 15.65903707 15.49751634 15.45050599 15.52448673 15.38275009\n",
      " 15.37637139 15.56340442 15.39982222 15.47451062 15.51338422 15.53460406\n",
      " 15.51225689 15.30693755 15.41696407 15.40087057 15.51865351 15.48506434\n",
      " 15.37771959 15.40224152 15.52909106 15.46480615 15.6434344  15.63545659\n",
      " 15.61730828 15.51392907 15.50551703 15.55778698 15.47403625 15.50409808\n",
      " 15.37356885 15.48909609 15.50530742 15.35180975 15.36535991 15.40452088\n",
      " 15.37230121 15.31374512 15.50005489 15.61878526 15.55459237 15.47704885\n",
      " 15.49721447 15.52912678 15.37955714 15.75841712 15.65377693 15.29946489\n",
      " 15.44881984 15.58024554 15.57695722 15.3909579  15.42321644 15.53361872\n",
      " 15.87140568 15.47391078 15.41362949 15.67624637 15.43458586 15.36037328\n",
      " 15.64433049 15.52033315 15.30890308 15.53526858 15.45816155 15.47187407\n",
      " 15.47773119 15.82694044]\n"
     ]
    }
   ],
   "source": [
    "def minibatch_gradient_descent(X,y,w,iterations,lr=0.0001,batch_size=20):\n",
    "    m = len(y)\n",
    "    cost_history = np.zeros(iterations)\n",
    "    n_batches = int(m/batch_size)\n",
    "    \n",
    "    for it in range(iterations):\n",
    "        costval =0.0\n",
    "        indices = np.random.permutation(m)\n",
    "        X = X[indices]\n",
    "        y = y[indices]\n",
    "        for i in range(0,m,batch_size):\n",
    "            X_i = X[i:i+batch_size]\n",
    "            y_i = y[i:i+batch_size]\n",
    "            \n",
    "            y_pred = sigmoid(w, X_i)\n",
    "            grad = np.dot((y_pred - y_i).T, X_i)\n",
    "            w = w - (lr * grad)\n",
    "            pos = np.multiply(y_i, np.log(y_pred))\n",
    "            neg = np.multiply((1 - y_i), np.log(1 - y_pred))\n",
    "            val = -np.sum(pos + neg) / (len(X_i))\n",
    "            costval += val\n",
    "            \n",
    "        cost_history[it]  = costval\n",
    "        \n",
    "    return w, cost_history\n",
    "\n",
    "\n",
    "#Numpy array of features\n",
    "X = np.hstack((np.matrix(np.ones(X_train.shape[0])).T, X_train)) \n",
    "# Output vector \n",
    "y = np.asarray(y_train).reshape(-1,1)\n",
    "print(X.shape,y.shape)  \n",
    "# initial w values \n",
    "w = np.matrix(np.zeros(X.shape[1])) \n",
    "print(\"W\",w.shape)\n",
    "num = 500\n",
    "# w values after running gradient descent \n",
    "w,cost_history = minibatch_gradient_descent(X, y, w,num) \n",
    "  \n",
    "# estimated w values and number of iterations \n",
    "print(\"Estimated regression coefficients:\", w) \n",
    "# predicted labels \n",
    "y_pred = predict(w, X)\n",
    "# number of correctly predicted labels \n",
    "count = 0\n",
    "for i in range(len(y)):\n",
    "    if(y_pred[i]==y[i]):\n",
    "        count += 1\n",
    "\n",
    "print(\"Correctly predicted labels:\", count,\"out of\",X.shape[0]) \n",
    "print(\"MSE \",cost_history)"
   ]
  },
  {
   "cell_type": "code",
   "execution_count": 25,
   "metadata": {},
   "outputs": [
    {
     "data": {
      "text/plain": [
       "[<matplotlib.lines.Line2D at 0x2219c249f60>]"
      ]
     },
     "execution_count": 25,
     "metadata": {},
     "output_type": "execute_result"
    },
    {
     "data": {
      "image/png": "[encoded data removed]",
      "text/plain": [
       "<Figure size 720x576 with 1 Axes>"
      ]
     },
     "metadata": {
      "needs_background": "light"
     },
     "output_type": "display_data"
    }
   ],
   "source": [
    "fig,ax = plt.subplots(figsize=(10,8))\n",
    "\n",
    "ax.set_ylabel('Cost function f(w)')\n",
    "ax.set_xlabel('Iterations')\n",
    "\n",
    "ax.plot(range(num),cost_history,'b.')"
   ]
  },
  {
   "cell_type": "markdown",
   "metadata": {},
   "source": [
    "<h3>Kernel SVM</h3>"
   ]
  },
  {
   "cell_type": "code",
   "execution_count": 26,
   "metadata": {},
   "outputs": [
    {
     "name": "stdout",
     "output_type": "stream",
     "text": [
      "Confusion matrix \n",
      " [[125  14]\n",
      " [ 30  54]]\n",
      "Accuracy :  80.26905829596413 %\n"
     ]
    }
   ],
   "source": [
    "# Fitting Kernel SVM to the Training set\n",
    "from sklearn.svm import SVC\n",
    "classifier = SVC(kernel = 'rbf', random_state = 0)\n",
    "classifier.fit(X_train, y_train)\n",
    "\n",
    "# Predicting the Test set results\n",
    "y_pred = classifier.predict(X_test)\n",
    "\n",
    "# Compute the Confusion Matrix\n",
    "from sklearn.metrics import confusion_matrix\n",
    "cm = confusion_matrix(y_test, y_pred)\n",
    "\n",
    "print(\"Confusion matrix \\n\",cm)\n",
    "\n",
    "accuracy = classifier.score(X_test,y_test)\n",
    "print(\"Accuracy : \", (accuracy * 100),'%')"
   ]
  },
  {
   "cell_type": "code",
   "execution_count": 30,
   "metadata": {},
   "outputs": [
    {
     "name": "stdout",
     "output_type": "stream",
     "text": [
      "Confusion matrix \n",
      " [[122  17]\n",
      " [ 17  67]]\n",
      "Accuracy :  84.75336322869956 %\n"
     ]
    }
   ],
   "source": [
    "# Fitting Random Forest Classification to the Training set\n",
    "from sklearn.ensemble import RandomForestClassifier\n",
    "classifier = RandomForestClassifier(n_estimators = 100, criterion = 'entropy',oob_score=True, random_state = 0)\n",
    "classifier.fit(X_train, y_train)\n",
    "\n",
    "# Predicting the Test set results\n",
    "y_pred = classifier.predict(X_test)\n",
    "\n",
    "# Compute the Confusion Matrix\n",
    "from sklearn.metrics import confusion_matrix\n",
    "cm = confusion_matrix(y_test, y_pred)\n",
    "\n",
    "print(\"Confusion matrix \\n\",cm)\n",
    "\n",
    "accuracy = classifier.score(X_test,y_test)\n",
    "print(\"Accuracy : \", (accuracy * 100),'%')"
   ]
  },
  {
   "cell_type": "markdown",
   "metadata": {},
   "source": [
    "Vanilla Gradient descent\n",
    "Estimated regression coefficients:<br/>\n",
    "[[-0.62940384 -0.42185745  0.01606745  0.03340444  0.89104112  0.52823296 0.03062518 -0.2128761  -1.22152831]]\n",
    "    \n",
    "Stochastic Gradient descent \n",
    "Estimated regression coefficients: <br/>\n",
    "[[-0.58956742 -0.43644498  0.02953795  0.00284464  0.92863398  0.49671354 0.00866862 -0.25243295 -1.25132783]]\n",
    "   \n",
    "Mini batch Gradient Descent\n",
    "Estimated regression coefficients: <br/>\n",
    "[[-0.60283804 -0.35919676  0.0752176   0.02067377  0.76465329  0.47130667 0.07199048 -0.16483538 -1.18779339]]\n"
   ]
  },
  {
   "cell_type": "code",
   "execution_count": null,
   "metadata": {},
   "outputs": [],
   "source": []
  }
 ],
 "metadata": {
  "kernelspec": {
   "display_name": "Python 3",
   "language": "python",
   "name": "python3"
  },
  "language_info": {
   "codemirror_mode": {
    "name": "ipython",
    "version": 3
   },
   "file_extension": ".py",
   "mimetype": "text/x-python",
   "name": "python",
   "nbconvert_exporter": "python",
   "pygments_lexer": "ipython3",
   "version": "3.7.1"
  }
 },
 "nbformat": 4,
 "nbformat_minor": 2
}
